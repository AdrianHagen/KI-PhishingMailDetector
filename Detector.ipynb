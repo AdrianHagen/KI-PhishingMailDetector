{
 "cells": [
  {
   "cell_type": "code",
   "execution_count": 165,
   "metadata": {},
   "outputs": [
    {
     "name": "stderr",
     "output_type": "stream",
     "text": [
      "[nltk_data] Downloading package stopwords to\n",
      "[nltk_data]     /Users/i551965/nltk_data...\n",
      "[nltk_data]   Package stopwords is already up-to-date!\n",
      "[nltk_data] Downloading package punkt to /Users/i551965/nltk_data...\n",
      "[nltk_data]   Package punkt is already up-to-date!\n",
      "[nltk_data] Downloading package wordnet to /Users/i551965/nltk_data...\n",
      "[nltk_data]   Package wordnet is already up-to-date!\n"
     ]
    }
   ],
   "source": [
    "import pandas as pd\n",
    "import numpy as np\n",
    "from tensorflow import keras\n",
    "from tensorflow.keras import layers, models, callbacks\n",
    "from tensorflow.keras.models import load_model\n",
    "import string\n",
    "from nltk.corpus import stopwords\n",
    "from nltk.tokenize import word_tokenize\n",
    "from nltk.stem import PorterStemmer, WordNetLemmatizer\n",
    "from sentence_transformers import SentenceTransformer\n",
    "import nltk\n",
    "nltk.download('stopwords')\n",
    "nltk.download('punkt')\n",
    "nltk.download('wordnet')\n",
    "import os"
   ]
  },
  {
   "cell_type": "markdown",
   "metadata": {},
   "source": [
    "# Spam E-Mail Detector\n",
    "This notebooks contains a model which is able to predict whether a given embedding of an email is a Phishing Mail or is safe. To achieve this, it loads previously created embeddings of emails that are classified either as Phishing or Safe. It then splits up the data into a train, validate and test split before defining and training a model with the data. Finally the models performance is evaluated. The basic structure is oriented towards CRISP DM.\n",
    "## CRISP-DM Phases\n",
    "\n",
    "1. Business Understanding\n",
    "2. Data Understanding\n",
    "3. Data Preparation\n",
    "4. Modeling\n",
    "5. Evaluation\n",
    "6. Deployment\n"
   ]
  },
  {
   "cell_type": "markdown",
   "metadata": {},
   "source": [
    "## Business\n",
    "### Georgiev International GmbH \n",
    "Kleines Eisenguss Unternehmen, welches sich vor einem Jahr seine IT-Infrastruktur aufgesetzt hat. Leider erhält dieses Unternehmen viele Spam Mails aus Bulgarien. Daher wurden die Studenten der DHBW beauftragt ein Spam Filter für deren Gmail Accounts zu entwickeln."
   ]
  },
  {
   "cell_type": "markdown",
   "metadata": {},
   "source": [
    "### 1. Business Understanding\n",
    "\n",
    "##### Objective\n",
    "To develop a model that accurately predicts whether an email is a phishing email or not in order to enhance email security and protect users from potential threats.\n",
    "\n",
    "##### Goals\n",
    "- Reduce the number of phishing emails that reach users' inboxes.\n",
    "- Minimize false positives to ensure legitimate emails are not incorrectly marked as phishing.\n",
    "- Improve overall user trust.\n",
    "\n",
    "##### Success Criteria\n",
    "- Achieve a accuracy rate in detecting phishing emails over 90%.\n",
    "- Maintain a low false positive rate below 5%.\n",
    "- Maintain a low false negative rate below 2%.\n",
    "\n",
    "##### Key Stakeholders\n",
    "- Geschäftsführer \"Marco\"\n",
    "\n",
    "##### Requirements\n",
    "- Access to historical email data, including labeled examples of phishing and non-phishing emails.\n",
    "- Collaboration with the cybersecurity team to identify key features indicative of phishing.\n",
    "- Tools and infrastructure for developing, testing, and deploying the model.\n"
   ]
  },
  {
   "cell_type": "markdown",
   "metadata": {
    "vscode": {
     "languageId": "plaintext"
    }
   },
   "source": [
    "### 2. Data Understanding\n",
    "Die Daten kommen aus folendem Datensatz: https://www.kaggle.com/datasets/subhajournal/phishingemails/data. \n",
    "\n",
    "- 18.600 E-Mails im Datensatz\n",
    "- 61% sicher, 39% Phishing\n",
    "- Moderates Ungleichgewicht\n",
    "- Gefahr von Modell-Bias zugunsten sicherer E-Mails\n",
    "- 3% leere E-Mails\n",
    "\n",
    "Der Datensatz enthält drei Spalten:\n",
    "    \n",
    "1. Die Anzahl an Einträgen\n",
    "2. Den Email Text\n",
    "3. Das Email Label"
   ]
  },
  {
   "cell_type": "code",
   "execution_count": 166,
   "metadata": {},
   "outputs": [
    {
     "name": "stdout",
     "output_type": "stream",
     "text": [
      "The amount of data entries is: 18650\n",
      "\n",
      "   Unnamed: 0                                         Email Text  \\\n",
      "0           0  re : 6 . 1100 , disc : uniformitarianism , re ...   \n",
      "1           1  the other side of * galicismos * * galicismo *...   \n",
      "2           2  re : equistar deal tickets are you still avail...   \n",
      "3           3  \\nHello I am your hot lil horny toy.\\n    I am...   \n",
      "4           4  software at incredibly low prices ( 86 % lower...   \n",
      "\n",
      "       Email Type  \n",
      "0      Safe Email  \n",
      "1      Safe Email  \n",
      "2      Safe Email  \n",
      "3  Phishing Email  \n",
      "4  Phishing Email  \n"
     ]
    }
   ],
   "source": [
    "data = pd.read_csv(\"data/Phishing_Email.csv\", skiprows=0)\n",
    "data_size = len(data)\n",
    "\n",
    "print(f\"The amount of data entries is: {data_size}\\n\")\n",
    "print(data.head())"
   ]
  },
  {
   "cell_type": "markdown",
   "metadata": {},
   "source": [
    "### 3. Data Preparation\n",
    "Since about 3% of the dataset contain an empty email text, it makes sense to delete those lines."
   ]
  },
  {
   "cell_type": "markdown",
   "metadata": {},
   "source": [
    "#### Removing empty entries"
   ]
  },
  {
   "cell_type": "code",
   "execution_count": 167,
   "metadata": {},
   "outputs": [],
   "source": [
    "# Remove rows with missing text\n",
    "data = data.dropna(subset=[\"Email Text\"])"
   ]
  },
  {
   "cell_type": "markdown",
   "metadata": {},
   "source": [
    "#### Resolving data imbalance by deleting excess emails from the safe labels"
   ]
  },
  {
   "cell_type": "code",
   "execution_count": 168,
   "metadata": {},
   "outputs": [
    {
     "name": "stdout",
     "output_type": "stream",
     "text": [
      "Excess Safe Mails before resolving data imbalance: 4010\n",
      "Excess Safe Mails after resolving data imbalance: 0\n",
      "Number of Safe Mails: 7312, Number of Phishing Mails: 7312\n"
     ]
    }
   ],
   "source": [
    "excess_safe_mails = data[data['Email Type'] == 'Safe Email'].shape[0] - data[data['Email Type'] == 'Phishing Email'].shape[0]\n",
    "print(f\"Excess Safe Mails before resolving data imbalance: {excess_safe_mails}\")\n",
    "\n",
    "# Filter the DataFrame to get rows with the specified value\n",
    "filtered_df = data[data['Email Type'] == 'Safe Email']\n",
    "\n",
    "# Randomly select 100 entries to remove\n",
    "rows_to_remove = filtered_df.sample(n=excess_safe_mails, random_state=1).index\n",
    "\n",
    "# Drop the selected entries from the original DataFrame\n",
    "data = data.drop(rows_to_remove)\n",
    "\n",
    "excess_safe_mails = data[data['Email Type'] == 'Safe Email'].shape[0] - data[data['Email Type'] == 'Phishing Email'].shape[0]\n",
    "print(f\"Excess Safe Mails after resolving data imbalance: {excess_safe_mails}\")\n",
    "n_safe_mails = data[data['Email Type'] == 'Safe Email'].shape[0]\n",
    "n_phishing_mail = data[data['Email Type'] == 'Phishing Email'].shape[0]\n",
    "print(f\"Number of Safe Mails: {n_safe_mails}, Number of Phishing Mails: {n_phishing_mail}\")"
   ]
  },
  {
   "cell_type": "markdown",
   "metadata": {},
   "source": [
    "#### Data cleanup\n",
    "The following data preparation steps include:\n",
    "- Convert all letters to lowercase\n",
    "- Removing Punctuation\n",
    "- (Removing stopwords)\n",
    "- Stemming\n",
    "- Lemmatization"
   ]
  },
  {
   "cell_type": "code",
   "execution_count": 169,
   "metadata": {},
   "outputs": [],
   "source": [
    "def clean_texts(texts):\n",
    "    # Convert to lowercase\n",
    "    texts = [text.lower() for text in texts]\n",
    "\n",
    "    # Remove punctuation\n",
    "    texts = [text.translate(str.maketrans(\"\", \"\", string.punctuation)) for text in texts]\n",
    "\n",
    "    # Remove stop words\n",
    "    #stop_words = set(stopwords.words('english'))\n",
    "    #texts = [' '.join(word for word in text.split() if word not in stop_words) for text in texts]\n",
    "\n",
    "    # Tokenize\n",
    "    texts = [word_tokenize(text) for text in texts]\n",
    "\n",
    "    # Stemming\n",
    "    stemmer = PorterStemmer()\n",
    "    texts = [[stemmer.stem(word) for word in text] for text in texts]\n",
    "\n",
    "    # Lemmatization\n",
    "    lemmatizer = WordNetLemmatizer()\n",
    "    texts = [[lemmatizer.lemmatize(word) for word in text] for text in texts]\n",
    "\n",
    "    # Join tokens back into strings\n",
    "    texts = [' '.join(text) for text in texts]\n",
    "\n",
    "    return texts"
   ]
  },
  {
   "cell_type": "markdown",
   "metadata": {},
   "source": [
    "#### Load/Create the embeddings\n",
    "Here, the embeddings for the Email Texts are created to make them acceptable for the model. This is done by the sentence transformer model all-MiniLM which was retreived from huggingface (https://huggingface.co/sentence-transformers/all-MiniLM-L6-v2). To speed up local testing and deployment, the embeddings are saved to a file the first time they are created and then simply loaded from that file the following runs."
   ]
  },
  {
   "cell_type": "code",
   "execution_count": 170,
   "metadata": {},
   "outputs": [],
   "source": [
    "def get_embeddings(texts):\n",
    "    # Load the sentence transformer model\n",
    "    sentence_transformer_model = SentenceTransformer(\"sentence-transformers/all-MiniLM-L6-v2\")\n",
    "    \n",
    "    # Preprocess the data\n",
    "    cleaned_texts = clean_texts(texts)\n",
    "\n",
    "    # Encode the text data to get embeddings\n",
    "    embeddings = sentence_transformer_model.encode(cleaned_texts, show_progress_bar=True)\n",
    "\n",
    "    # Convert embeddings to a list of lists with Python floats\n",
    "    embeddings_list = [list(map(float, embedding)) for embedding in embeddings]\n",
    "\n",
    "    # Convert embeddings to a single string representation\n",
    "    embeddings_str_list = [str(embedding) for embedding in embeddings_list]\n",
    "    \n",
    "    return embeddings_str_list\n",
    "\n",
    "# Check if the embeddings exist and if not, create them\n",
    "if not os.path.exists(\"data/embeddings.csv\"):\n",
    "    # Create a new DataFrame with a single column for embeddings\n",
    "    embeddings_df = pd.DataFrame({\"embedding\": get_embeddings(data[\"Email Text\"].tolist())})\n",
    "\n",
    "    # Concatenate the label column with the embeddings\n",
    "    final_df = pd.concat([data[\"Email Type\"].reset_index(drop=True), embeddings_df], axis=1)\n",
    "    \n",
    "    # Save the final DataFrame to a CSV file\n",
    "    final_df.to_csv(\"data/embeddings.csv\", index=False, sep=\";\")\n",
    "\n",
    "# Load the embeddings and skip the header\n",
    "data_embeddings = pd.read_csv('data/embeddings.csv', sep=';', skiprows=0)"
   ]
  },
  {
   "cell_type": "markdown",
   "metadata": {},
   "source": [
    "#### Create a train, validate and test dataset"
   ]
  },
  {
   "cell_type": "code",
   "execution_count": 171,
   "metadata": {},
   "outputs": [],
   "source": [
    "def format_and_load_data(train_split=0.6, validate_split=0.2, test_split=0.2):\n",
    "    # Calculate the number of samples for each dataset split\n",
    "    train_amount = int(data_size * train_split)\n",
    "    validate_amount = int(data_size * validate_split)\n",
    "    test_amount = int(data_size * test_split)\n",
    "    \n",
    "    examples = []\n",
    "\n",
    "    # Process each embedding\n",
    "    for _, embedding in data_embeddings.iterrows():\n",
    "        label = 1 if embedding.iloc[0] == 'Phishing Email' else 0\n",
    "        embedding_list = [float(i) for i in embedding.iloc[1].strip('[]').split(', ')]\n",
    "        examples.append((embedding_list, label))\n",
    "\n",
    "    # Shuffle the examples\n",
    "    np.random.shuffle(examples)\n",
    "\n",
    "    # Split data into features and labels\n",
    "    X, y = zip(*examples)\n",
    "\n",
    "    # Convert lists to numpy arrays\n",
    "    X = np.array(X)\n",
    "    y = np.array(y)\n",
    "\n",
    "    # Split data into training, validation and testing sets\n",
    "    X_train = X[:train_amount]\n",
    "    X_val = X[train_amount:train_amount + validate_amount]\n",
    "    X_test = X[train_amount + validate_amount:]\n",
    "    y_train = y[:train_amount]\n",
    "    y_val = y[train_amount:train_amount + validate_amount]\n",
    "    y_test = y[train_amount + validate_amount:]\n",
    "\n",
    "    return X_train, y_train, X_val, y_val, X_test, y_test"
   ]
  },
  {
   "cell_type": "markdown",
   "metadata": {},
   "source": [
    "### 4. Modeling"
   ]
  },
  {
   "cell_type": "markdown",
   "metadata": {},
   "source": [
    "#### Build a binary classifier model to predict whether an email is spam.\n",
    "\n",
    "The model comprises three layers:\n",
    "- The first layer accepts inputs with the length of the created embeddings.\n",
    "- The second layer accepts inputs of length 128.\n",
    "- The third layer accepts inputs of length 64.\n",
    "- The fourth layer accepts inputs of length 1.\n",
    "\n",
    "- The first two layers use the ReLU activation function\n",
    "- while the last layer uses sigmoid. \n",
    "    - Sigmoid is chosen because it outputs values between 0 and 1, making it suitable for binary classification tasks. (It is also very commonly used for these kind of tasks.)\n",
    "\n",
    "The data is divided into:\n",
    "- training (60%)\n",
    "- validation (20%)\n",
    "- test sets (20%)\n",
    "\n",
    "During training, the validation data and validation loss are used to evaluate the model after each epoch. Validation accuracy was also considered but showed weaker results than the loss metric.\n",
    "\n",
    "To manage the training process effectively, two callback functions are employed:\n",
    "- **Early Stopping**: Halts training if the model's performance, measured by the validation dataset, begins to degrade, preventing overfitting.\n",
    "- **Reduce Learning Rate on Plateau**: Adjusts the learning rate (in this case, by halving it) when the model's performance starts to decline, helping to avoid getting stuck in local minima. The patience parameter for both callbacks defines the number of epochs they wait before taking action.\n"
   ]
  },
  {
   "cell_type": "code",
   "execution_count": 172,
   "metadata": {},
   "outputs": [
    {
     "name": "stdout",
     "output_type": "stream",
     "text": [
      "(11190, 384) (384,)\n",
      "Epoch 1/50\n"
     ]
    },
    {
     "name": "stderr",
     "output_type": "stream",
     "text": [
      "/Users/i551965/Library/CloudStorage/OneDrive-SAPSE/BachelorStudium/DHBW/6.Semester/KI/KI-PhishingMailDetector/.venv/lib/python3.12/site-packages/keras/src/layers/core/dense.py:87: UserWarning: Do not pass an `input_shape`/`input_dim` argument to a layer. When using Sequential models, prefer using an `Input(shape)` object as the first layer in the model instead.\n",
      "  super().__init__(activity_regularizer=activity_regularizer, **kwargs)\n"
     ]
    },
    {
     "name": "stdout",
     "output_type": "stream",
     "text": [
      "\u001b[1m350/350\u001b[0m \u001b[32m━━━━━━━━━━━━━━━━━━━━\u001b[0m\u001b[37m\u001b[0m \u001b[1m1s\u001b[0m 2ms/step - accuracy: 0.8319 - loss: 0.3430 - val_accuracy: 0.9236 - val_loss: 0.1847 - learning_rate: 0.0010\n",
      "Epoch 2/50\n",
      "\u001b[1m350/350\u001b[0m \u001b[32m━━━━━━━━━━━━━━━━━━━━\u001b[0m\u001b[37m\u001b[0m \u001b[1m1s\u001b[0m 1ms/step - accuracy: 0.9422 - loss: 0.1510 - val_accuracy: 0.9359 - val_loss: 0.1516 - learning_rate: 0.0010\n",
      "Epoch 3/50\n",
      "\u001b[1m350/350\u001b[0m \u001b[32m━━━━━━━━━━━━━━━━━━━━\u001b[0m\u001b[37m\u001b[0m \u001b[1m1s\u001b[0m 1ms/step - accuracy: 0.9599 - loss: 0.0999 - val_accuracy: 0.9257 - val_loss: 0.1912 - learning_rate: 0.0010\n",
      "Epoch 4/50\n",
      "\u001b[1m350/350\u001b[0m \u001b[32m━━━━━━━━━━━━━━━━━━━━\u001b[0m\u001b[37m\u001b[0m \u001b[1m1s\u001b[0m 1ms/step - accuracy: 0.9781 - loss: 0.0590 - val_accuracy: 0.9456 - val_loss: 0.1472 - learning_rate: 0.0010\n",
      "Epoch 5/50\n",
      "\u001b[1m350/350\u001b[0m \u001b[32m━━━━━━━━━━━━━━━━━━━━\u001b[0m\u001b[37m\u001b[0m \u001b[1m1s\u001b[0m 2ms/step - accuracy: 0.9837 - loss: 0.0376 - val_accuracy: 0.9413 - val_loss: 0.1861 - learning_rate: 0.0010\n",
      "Epoch 6/50\n",
      "\u001b[1m341/350\u001b[0m \u001b[32m━━━━━━━━━━━━━━━━━━━\u001b[0m\u001b[37m━\u001b[0m \u001b[1m0s\u001b[0m 1ms/step - accuracy: 0.9873 - loss: 0.0288\n",
      "Epoch 6: ReduceLROnPlateau reducing learning rate to 0.0005000000237487257.\n",
      "\u001b[1m350/350\u001b[0m \u001b[32m━━━━━━━━━━━━━━━━━━━━\u001b[0m\u001b[37m\u001b[0m \u001b[1m1s\u001b[0m 1ms/step - accuracy: 0.9872 - loss: 0.0290 - val_accuracy: 0.9426 - val_loss: 0.1918 - learning_rate: 0.0010\n",
      "Epoch 7/50\n",
      "\u001b[1m350/350\u001b[0m \u001b[32m━━━━━━━━━━━━━━━━━━━━\u001b[0m\u001b[37m\u001b[0m \u001b[1m1s\u001b[0m 2ms/step - accuracy: 0.9876 - loss: 0.0270 - val_accuracy: 0.9469 - val_loss: 0.2173 - learning_rate: 5.0000e-04\n"
     ]
    },
    {
     "name": "stderr",
     "output_type": "stream",
     "text": [
      "WARNING:absl:You are saving your model as an HDF5 file via `model.save()` or `keras.saving.save_model(model)`. This file format is considered legacy. We recommend using instead the native Keras format, e.g. `model.save('my_model.keras')` or `keras.saving.save_model(model, 'my_model.keras')`. \n"
     ]
    },
    {
     "data": {
      "text/html": [
       "<pre style=\"white-space:pre;overflow-x:auto;line-height:normal;font-family:Menlo,'DejaVu Sans Mono',consolas,'Courier New',monospace\"><span style=\"font-weight: bold\">Model: \"sequential_11\"</span>\n",
       "</pre>\n"
      ],
      "text/plain": [
       "\u001b[1mModel: \"sequential_11\"\u001b[0m\n"
      ]
     },
     "metadata": {},
     "output_type": "display_data"
    },
    {
     "data": {
      "text/html": [
       "<pre style=\"white-space:pre;overflow-x:auto;line-height:normal;font-family:Menlo,'DejaVu Sans Mono',consolas,'Courier New',monospace\">┏━━━━━━━━━━━━━━━━━━━━━━━━━━━━━━━━━┳━━━━━━━━━━━━━━━━━━━━━━━━┳━━━━━━━━━━━━━━━┓\n",
       "┃<span style=\"font-weight: bold\"> Layer (type)                    </span>┃<span style=\"font-weight: bold\"> Output Shape           </span>┃<span style=\"font-weight: bold\">       Param # </span>┃\n",
       "┡━━━━━━━━━━━━━━━━━━━━━━━━━━━━━━━━━╇━━━━━━━━━━━━━━━━━━━━━━━━╇━━━━━━━━━━━━━━━┩\n",
       "│ dense_43 (<span style=\"color: #0087ff; text-decoration-color: #0087ff\">Dense</span>)                │ (<span style=\"color: #00d7ff; text-decoration-color: #00d7ff\">None</span>, <span style=\"color: #00af00; text-decoration-color: #00af00\">384</span>)            │       <span style=\"color: #00af00; text-decoration-color: #00af00\">147,840</span> │\n",
       "├─────────────────────────────────┼────────────────────────┼───────────────┤\n",
       "│ dense_44 (<span style=\"color: #0087ff; text-decoration-color: #0087ff\">Dense</span>)                │ (<span style=\"color: #00d7ff; text-decoration-color: #00d7ff\">None</span>, <span style=\"color: #00af00; text-decoration-color: #00af00\">128</span>)            │        <span style=\"color: #00af00; text-decoration-color: #00af00\">49,280</span> │\n",
       "├─────────────────────────────────┼────────────────────────┼───────────────┤\n",
       "│ dense_45 (<span style=\"color: #0087ff; text-decoration-color: #0087ff\">Dense</span>)                │ (<span style=\"color: #00d7ff; text-decoration-color: #00d7ff\">None</span>, <span style=\"color: #00af00; text-decoration-color: #00af00\">64</span>)             │         <span style=\"color: #00af00; text-decoration-color: #00af00\">8,256</span> │\n",
       "├─────────────────────────────────┼────────────────────────┼───────────────┤\n",
       "│ dense_46 (<span style=\"color: #0087ff; text-decoration-color: #0087ff\">Dense</span>)                │ (<span style=\"color: #00d7ff; text-decoration-color: #00d7ff\">None</span>, <span style=\"color: #00af00; text-decoration-color: #00af00\">1</span>)              │            <span style=\"color: #00af00; text-decoration-color: #00af00\">65</span> │\n",
       "└─────────────────────────────────┴────────────────────────┴───────────────┘\n",
       "</pre>\n"
      ],
      "text/plain": [
       "┏━━━━━━━━━━━━━━━━━━━━━━━━━━━━━━━━━┳━━━━━━━━━━━━━━━━━━━━━━━━┳━━━━━━━━━━━━━━━┓\n",
       "┃\u001b[1m \u001b[0m\u001b[1mLayer (type)                   \u001b[0m\u001b[1m \u001b[0m┃\u001b[1m \u001b[0m\u001b[1mOutput Shape          \u001b[0m\u001b[1m \u001b[0m┃\u001b[1m \u001b[0m\u001b[1m      Param #\u001b[0m\u001b[1m \u001b[0m┃\n",
       "┡━━━━━━━━━━━━━━━━━━━━━━━━━━━━━━━━━╇━━━━━━━━━━━━━━━━━━━━━━━━╇━━━━━━━━━━━━━━━┩\n",
       "│ dense_43 (\u001b[38;5;33mDense\u001b[0m)                │ (\u001b[38;5;45mNone\u001b[0m, \u001b[38;5;34m384\u001b[0m)            │       \u001b[38;5;34m147,840\u001b[0m │\n",
       "├─────────────────────────────────┼────────────────────────┼───────────────┤\n",
       "│ dense_44 (\u001b[38;5;33mDense\u001b[0m)                │ (\u001b[38;5;45mNone\u001b[0m, \u001b[38;5;34m128\u001b[0m)            │        \u001b[38;5;34m49,280\u001b[0m │\n",
       "├─────────────────────────────────┼────────────────────────┼───────────────┤\n",
       "│ dense_45 (\u001b[38;5;33mDense\u001b[0m)                │ (\u001b[38;5;45mNone\u001b[0m, \u001b[38;5;34m64\u001b[0m)             │         \u001b[38;5;34m8,256\u001b[0m │\n",
       "├─────────────────────────────────┼────────────────────────┼───────────────┤\n",
       "│ dense_46 (\u001b[38;5;33mDense\u001b[0m)                │ (\u001b[38;5;45mNone\u001b[0m, \u001b[38;5;34m1\u001b[0m)              │            \u001b[38;5;34m65\u001b[0m │\n",
       "└─────────────────────────────────┴────────────────────────┴───────────────┘\n"
      ]
     },
     "metadata": {},
     "output_type": "display_data"
    },
    {
     "data": {
      "text/html": [
       "<pre style=\"white-space:pre;overflow-x:auto;line-height:normal;font-family:Menlo,'DejaVu Sans Mono',consolas,'Courier New',monospace\"><span style=\"font-weight: bold\"> Total params: </span><span style=\"color: #00af00; text-decoration-color: #00af00\">616,325</span> (2.35 MB)\n",
       "</pre>\n"
      ],
      "text/plain": [
       "\u001b[1m Total params: \u001b[0m\u001b[38;5;34m616,325\u001b[0m (2.35 MB)\n"
      ]
     },
     "metadata": {},
     "output_type": "display_data"
    },
    {
     "data": {
      "text/html": [
       "<pre style=\"white-space:pre;overflow-x:auto;line-height:normal;font-family:Menlo,'DejaVu Sans Mono',consolas,'Courier New',monospace\"><span style=\"font-weight: bold\"> Trainable params: </span><span style=\"color: #00af00; text-decoration-color: #00af00\">205,441</span> (802.50 KB)\n",
       "</pre>\n"
      ],
      "text/plain": [
       "\u001b[1m Trainable params: \u001b[0m\u001b[38;5;34m205,441\u001b[0m (802.50 KB)\n"
      ]
     },
     "metadata": {},
     "output_type": "display_data"
    },
    {
     "data": {
      "text/html": [
       "<pre style=\"white-space:pre;overflow-x:auto;line-height:normal;font-family:Menlo,'DejaVu Sans Mono',consolas,'Courier New',monospace\"><span style=\"font-weight: bold\"> Non-trainable params: </span><span style=\"color: #00af00; text-decoration-color: #00af00\">0</span> (0.00 B)\n",
       "</pre>\n"
      ],
      "text/plain": [
       "\u001b[1m Non-trainable params: \u001b[0m\u001b[38;5;34m0\u001b[0m (0.00 B)\n"
      ]
     },
     "metadata": {},
     "output_type": "display_data"
    },
    {
     "data": {
      "text/html": [
       "<pre style=\"white-space:pre;overflow-x:auto;line-height:normal;font-family:Menlo,'DejaVu Sans Mono',consolas,'Courier New',monospace\"><span style=\"font-weight: bold\"> Optimizer params: </span><span style=\"color: #00af00; text-decoration-color: #00af00\">410,884</span> (1.57 MB)\n",
       "</pre>\n"
      ],
      "text/plain": [
       "\u001b[1m Optimizer params: \u001b[0m\u001b[38;5;34m410,884\u001b[0m (1.57 MB)\n"
      ]
     },
     "metadata": {},
     "output_type": "display_data"
    }
   ],
   "source": [
    "# Load the data splits\n",
    "X_train, y_train, X_val, y_val, X_test, y_test = format_and_load_data()\n",
    "\n",
    "# Reshape data to make it acceptable for the model\n",
    "y_train = np.array(y_train, dtype=np.int32)\n",
    "y_val = np.array(y_val, dtype=np.int32)\n",
    "y_test = np.array(y_test, dtype=np.int32)\n",
    "\n",
    "print(X_train.shape, X_train[0].shape)\n",
    "\n",
    "# Define model architecture\n",
    "no_embedding_dim = len(X_train[0])\n",
    "model = models.Sequential([\n",
    "    layers.Dense(no_embedding_dim, activation='relu', input_shape=(no_embedding_dim,)),\n",
    "    layers.Dense(128, activation='relu'),\n",
    "    layers.Dense(64, activation='relu'),\n",
    "    layers.Dense(1, activation='sigmoid')\n",
    "])\n",
    "\n",
    "# Compile the model\n",
    "model.compile(optimizer=keras.optimizers.Adam(learning_rate=1e-3),\n",
    "              loss='binary_crossentropy',\n",
    "              metrics=['accuracy'])\n",
    "\n",
    "# Define callbacks\n",
    "early_stopping = callbacks.EarlyStopping(patience=3, monitor='val_loss', restore_best_weights=True)\n",
    "reduce_lr = callbacks.ReduceLROnPlateau(factor=0.5, patience=2, monitor='val_loss', verbose=1)\n",
    "\n",
    "# Train the model\n",
    "model.fit(X_train, y_train, epochs=50, batch_size=32, validation_data=(X_val, y_val), callbacks=[early_stopping, reduce_lr])\n",
    "\n",
    "# Save the model for later use\n",
    "model.save(\"models/phishing_email_classifier.h5\")\n",
    "\n",
    "model_summary = model.summary()\n",
    "model_summary"
   ]
  },
  {
   "cell_type": "markdown",
   "metadata": {},
   "source": [
    "### 5. Evaluation"
   ]
  },
  {
   "cell_type": "code",
   "execution_count": 173,
   "metadata": {},
   "outputs": [],
   "source": [
    "from sklearn.metrics import precision_score, recall_score, f1_score, roc_auc_score, confusion_matrix\n",
    "import seaborn as sns\n",
    "import matplotlib.pyplot as plt"
   ]
  },
  {
   "cell_type": "markdown",
   "metadata": {},
   "source": [
    "#### Loss and accuracy"
   ]
  },
  {
   "cell_type": "code",
   "execution_count": 174,
   "metadata": {},
   "outputs": [
    {
     "name": "stdout",
     "output_type": "stream",
     "text": [
      "Test Loss: 0.1558\n",
      "Test Accuracy: 0.9467\n"
     ]
    }
   ],
   "source": [
    "# Evaluate the model on the test set\n",
    "test_loss, test_accuracy = model.evaluate(X_test, y_test, verbose=0)\n",
    "print(f'Test Loss: {test_loss:.4f}')\n",
    "print(f'Test Accuracy: {test_accuracy:.4f}')"
   ]
  },
  {
   "cell_type": "markdown",
   "metadata": {},
   "source": [
    "#### F1-Score"
   ]
  },
  {
   "cell_type": "code",
   "execution_count": 175,
   "metadata": {},
   "outputs": [
    {
     "name": "stdout",
     "output_type": "stream",
     "text": [
      "\u001b[1m117/117\u001b[0m \u001b[32m━━━━━━━━━━━━━━━━━━━━\u001b[0m\u001b[37m\u001b[0m \u001b[1m0s\u001b[0m 525us/step\n",
      "Precision: 0.9102\n",
      "Recall: 0.9579\n",
      "F1 Score: 0.9334\n"
     ]
    }
   ],
   "source": [
    "# Evaluate the model on test data\n",
    "y_pred_prob = model.predict(X_test).flatten()\n",
    "y_pred = (y_pred_prob > 0.5).astype(np.int32)\n",
    "\n",
    "# Precision\n",
    "precision = precision_score(y_test, y_pred)\n",
    "print(f'Precision: {precision:.4f}')\n",
    "\n",
    "# Recall\n",
    "recall = recall_score(y_test, y_pred)\n",
    "print(f'Recall: {recall:.4f}')\n",
    "\n",
    "# F1 Score\n",
    "f1 = f1_score(y_test, y_pred)\n",
    "print(f'F1 Score: {f1:.4f}')"
   ]
  },
  {
   "cell_type": "markdown",
   "metadata": {},
   "source": [
    "#### ROC AUC Score"
   ]
  },
  {
   "cell_type": "code",
   "execution_count": 176,
   "metadata": {},
   "outputs": [
    {
     "name": "stdout",
     "output_type": "stream",
     "text": [
      "ROC AUC Score: 0.9879\n"
     ]
    }
   ],
   "source": [
    "roc_auc = roc_auc_score(y_test, y_pred_prob)\n",
    "print(f'ROC AUC Score: {roc_auc:.4f}')"
   ]
  },
  {
   "cell_type": "markdown",
   "metadata": {},
   "source": [
    "#### Confusion Matrix"
   ]
  },
  {
   "cell_type": "code",
   "execution_count": 177,
   "metadata": {},
   "outputs": [
    {
     "data": {
      "image/png": "[encoded data removed]",
      "text/plain": [
       "<Figure size 800x600 with 1 Axes>"
      ]
     },
     "metadata": {},
     "output_type": "display_data"
    }
   ],
   "source": [
    "conf_mat = confusion_matrix(y_test, y_pred)\n",
    "\n",
    "plt.figure(figsize=(8, 6))\n",
    "sns.heatmap(conf_mat, annot=True, fmt='d', cmap='Blues', cbar=False,\n",
    "            annot_kws={'fontsize': 14, 'fontweight': 'bold'})\n",
    "plt.xlabel('Predicted Labels', fontsize=14)\n",
    "plt.ylabel('True Labels', fontsize=14)\n",
    "plt.title('Confusion Matrix', fontsize=16)\n",
    "plt.xticks(ticks=[0.5, 1.5], labels=['Not Phishing', 'Phishing'])\n",
    "plt.yticks(ticks=[0.5, 1.5], labels=['Not Phishing', 'Phishing'])\n",
    "plt.show()"
   ]
  },
  {
   "cell_type": "markdown",
   "metadata": {},
   "source": [
    "#### Evaluation summary"
   ]
  },
  {
   "cell_type": "markdown",
   "metadata": {},
   "source": [
    "### 6. Deployment\n",
    "#### Testen des Modells\n",
    "The model can be retrieved for usage from the models folder. The code below shows how it can be used."
   ]
  },
  {
   "cell_type": "code",
   "execution_count": 178,
   "metadata": {},
   "outputs": [
    {
     "name": "stderr",
     "output_type": "stream",
     "text": [
      "WARNING:absl:Compiled the loaded model, but the compiled metrics have yet to be built. `model.compile_metrics` will be empty until you train or evaluate the model.\n",
      "/Users/i551965/Library/CloudStorage/OneDrive-SAPSE/BachelorStudium/DHBW/6.Semester/KI/KI-PhishingMailDetector/.venv/lib/python3.12/site-packages/huggingface_hub/file_download.py:1132: FutureWarning: `resume_download` is deprecated and will be removed in version 1.0.0. Downloads always resume when possible. If you want to force a new download, use `force_download=True`.\n",
      "  warnings.warn(\n",
      "Batches: 100%|██████████| 1/1 [00:00<00:00,  3.32it/s]"
     ]
    },
    {
     "name": "stdout",
     "output_type": "stream",
     "text": [
      "\u001b[1m1/1\u001b[0m \u001b[32m━━━━━━━━━━━━━━━━━━━━\u001b[0m\u001b[37m\u001b[0m \u001b[1m0s\u001b[0m 23ms/step\n",
      "Mail: You won the lottery! Please send us your bank account details to claim your prize.\n",
      "Prediction: Phishing\n",
      "\n",
      "Mail: Hello I am a Nigerian prince and I want to share my fortune with you. Please send me your bank account details so I can transfer the money to you.\n",
      "Prediction: Phishing\n",
      "\n",
      "Mail: Hello I am just confirming that I got your previous email and I will get back to you soon. Thanks.\n",
      "Prediction: Safe\n",
      "\n",
      "Mail: Hey, I am not feeling too good and will take tomorrow off.\n",
      "Prediction: Safe\n",
      "\n"
     ]
    },
    {
     "name": "stderr",
     "output_type": "stream",
     "text": [
      "\n"
     ]
    }
   ],
   "source": [
    "# Load the saved model for phishing email classification\n",
    "model = keras.models.load_model(\"models/phishing_email_classifier.h5\")\n",
    "\n",
    "# Creating sample mails on my own to test and demonstrate the model\n",
    "mails = [\"You won the lottery! Please send us your bank account details to claim your prize.\",\n",
    "         \"Hello I am a Nigerian prince and I want to share my fortune with you. Please send me your bank account details so I can transfer the money to you.\",\n",
    "         \"Hello I am just confirming that I got your previous email and I will get back to you soon. Thanks.\",\n",
    "         \"Hey, I am not feeling too good and will take tomorrow off.\"]\n",
    "\n",
    "# Encode the preprocessed email text to get its embedding\n",
    "email_embeddings = get_embeddings(mails)\n",
    "\n",
    "email_embeddings_formatted = []\n",
    "# Process each embedding\n",
    "for ee in email_embeddings:\n",
    "    embedding_list = [float(i) for i in ee.strip('[]').split(', ')]\n",
    "    email_embeddings_formatted.append(embedding_list)\n",
    "    \n",
    "email_embeddings_formatted = np.array(email_embeddings_formatted)\n",
    "\n",
    "# Make predictions for each embedding\n",
    "predictions = model.predict(email_embeddings_formatted)\n",
    "\n",
    "# Thresholding the predictions\n",
    "threshold = 0.5\n",
    "predicted_labels = [\"Phishing\" if prediction[0] >= threshold else \"Safe\" for prediction in predictions]\n",
    "\n",
    "# Print predictions for each mail\n",
    "for mail, prediction in zip(mails, predicted_labels):\n",
    "    print(f\"Mail: {mail}\\nPrediction: {prediction}\\n\")"
   ]
  }
 ],
 "metadata": {
  "kernelspec": {
   "display_name": "Python 3",
   "language": "python",
   "name": "python3"
  },
  "language_info": {
   "codemirror_mode": {
    "name": "ipython",
    "version": 3
   },
   "file_extension": ".py",
   "mimetype": "text/x-python",
   "name": "python",
   "nbconvert_exporter": "python",
   "pygments_lexer": "ipython3",
   "version": "3.12.4"
  }
 },
 "nbformat": 4,
 "nbformat_minor": 2
}
