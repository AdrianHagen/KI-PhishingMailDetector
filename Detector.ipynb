{
 "cells": [
  {
   "cell_type": "markdown",
   "metadata": {},
   "source": [
    "# Spam E-Mail Detector\n",
    "This notebooks contains a model which is able to predict whether a given embedding of an email is a Phishing Mail or is safe. To achieve this, it loads previously created embeddings of emails that are classified either as Phishing or Safe. It then splits up the data into a train, validate and test split before defining and training a model with the data. Finally the models performance is evaluated."
   ]
  },
  {
   "cell_type": "code",
   "execution_count": 98,
   "metadata": {},
   "outputs": [],
   "source": [
    "import pandas as pd\n",
    "import numpy as np\n",
    "from tensorflow import keras\n",
    "from tensorflow.keras import layers, models, callbacks"
   ]
  },
  {
   "cell_type": "markdown",
   "metadata": {
    "vscode": {
     "languageId": "plaintext"
    }
   },
   "source": [
    "### Load the embeddings"
   ]
  },
  {
   "cell_type": "code",
   "execution_count": 99,
   "metadata": {},
   "outputs": [
    {
     "name": "stdout",
     "output_type": "stream",
     "text": [
      "5\n",
      "       Email Type                                          embedding\n",
      "0      Safe Email  [-0.08889792859554291, -0.001748952199704945, ...\n",
      "1      Safe Email  [0.040912602096796036, -0.10533677786588669, 0...\n",
      "2      Safe Email  [-0.0216156505048275, -0.02926367148756981, -0...\n",
      "3  Phishing Email  [-0.0783514603972435, -0.06557461619377136, 0....\n",
      "4  Phishing Email  [0.038430340588092804, 0.05078845098614693, 0....\n"
     ]
    }
   ],
   "source": [
    "# Load the embeddings and skip the header\n",
    "data_embeddings = pd.read_csv('data/embeddings.csv', sep=';', skiprows=0)\n",
    "data_size = len(data_embeddings)\n",
    "\n",
    "print(data_size)\n",
    "print(data_embeddings.head())"
   ]
  },
  {
   "cell_type": "markdown",
   "metadata": {},
   "source": [
    "### Create a train, validate and test dataset"
   ]
  },
  {
   "cell_type": "code",
   "execution_count": 100,
   "metadata": {},
   "outputs": [],
   "source": [
    "def format_and_load_data(train_split=0.6, validate_split=0.2, test_split=0.2):\n",
    "    # Calculate the number of samples for each dataset split\n",
    "    train_amount = int(data_size * train_split)\n",
    "    validate_amount = int(data_size * validate_split)\n",
    "    test_amount = int(data_size * test_split)\n",
    "    \n",
    "    examples = []\n",
    "\n",
    "    # Process each embedding\n",
    "    for _, embedding in data_embeddings.iterrows():\n",
    "        label = 1 if embedding.iloc[0] == 'Phishing Email' else 0\n",
    "        embedding_list = [float(i) for i in embedding.iloc[1].strip('[]').split(', ')]\n",
    "        examples.append((embedding_list, label))\n",
    "\n",
    "    # Shuffle the examples\n",
    "    np.random.shuffle(examples)\n",
    "\n",
    "    # Split data into features and labels\n",
    "    X, y = zip(*examples)\n",
    "\n",
    "    # Convert lists to numpy arrays\n",
    "    X = np.array(X)\n",
    "    y = np.array(y)\n",
    "\n",
    "    # Split data into training, validation and testing sets\n",
    "    X_train = X[:train_amount]\n",
    "    X_val = X[train_amount:train_amount + validate_amount]\n",
    "    X_test = X[train_amount + validate_amount:]\n",
    "    y_train = y[:train_amount]\n",
    "    y_val = y[train_amount:train_amount + validate_amount]\n",
    "    y_test = y[train_amount + validate_amount:]\n",
    "\n",
    "    return X_train, y_train, X_val, y_val, X_test, y_test"
   ]
  },
  {
   "cell_type": "markdown",
   "metadata": {},
   "source": [
    "### Create a binary classifier model that can predict whether a mail is spam or not"
   ]
  },
  {
   "cell_type": "code",
   "execution_count": 101,
   "metadata": {},
   "outputs": [
    {
     "name": "stdout",
     "output_type": "stream",
     "text": [
      "Epoch 1/50\n",
      "1/1 [==============================] - 4s 4s/step - loss: 0.7004 - accuracy: 0.6667 - val_loss: 0.7309 - val_accuracy: 0.0000e+00 - lr: 0.0010\n",
      "Epoch 2/50\n",
      "1/1 [==============================] - 0s 118ms/step - loss: 0.6334 - accuracy: 0.6667 - val_loss: 0.7492 - val_accuracy: 0.0000e+00 - lr: 0.0010\n",
      "Epoch 3/50\n",
      "1/1 [==============================] - ETA: 0s - loss: 0.5814 - accuracy: 1.0000\n",
      "Epoch 3: ReduceLROnPlateau reducing learning rate to 0.0005000000237487257.\n",
      "1/1 [==============================] - 0s 134ms/step - loss: 0.5814 - accuracy: 1.0000 - val_loss: 0.7675 - val_accuracy: 0.0000e+00 - lr: 0.0010\n",
      "Epoch 4/50\n",
      "1/1 [==============================] - 0s 130ms/step - loss: 0.5349 - accuracy: 1.0000 - val_loss: 0.7774 - val_accuracy: 0.0000e+00 - lr: 5.0000e-04\n",
      "Model: \"sequential_5\"\n",
      "_________________________________________________________________\n",
      " Layer (type)                Output Shape              Param #   \n",
      "=================================================================\n",
      " dense_28 (Dense)            (None, 384)               147840    \n",
      "                                                                 \n",
      " dense_29 (Dense)            (None, 128)               49280     \n",
      "                                                                 \n",
      " dense_30 (Dense)            (None, 1)                 129       \n",
      "                                                                 \n",
      "=================================================================\n",
      "Total params: 197249 (770.50 KB)\n",
      "Trainable params: 197249 (770.50 KB)\n",
      "Non-trainable params: 0 (0.00 Byte)\n",
      "_________________________________________________________________\n"
     ]
    }
   ],
   "source": [
    "# Load the data splits\n",
    "X_train, y_train, X_val, y_val, X_test, y_test = format_and_load_data()\n",
    "\n",
    "# Reshape data to make it acceptable for the model\n",
    "y_train = np.array(y_train, dtype=np.int32)\n",
    "y_val = np.array(y_val, dtype=np.int32)\n",
    "y_test = np.array(y_test, dtype=np.int32)\n",
    "\n",
    "# Define model architecture\n",
    "no_embedding_dim = len(X_train[0])\n",
    "model = models.Sequential([\n",
    "    layers.Dense(no_embedding_dim, activation='relu', input_shape=(no_embedding_dim,)),\n",
    "    layers.Dense(128, activation='relu'),\n",
    "    layers.Dense(1, activation='sigmoid')\n",
    "])\n",
    "\n",
    "# Compile the model\n",
    "model.compile(optimizer=keras.optimizers.Adam(learning_rate=1e-3),\n",
    "              loss='binary_crossentropy',\n",
    "              metrics=['accuracy'])\n",
    "\n",
    "# Define callbacks\n",
    "early_stopping = callbacks.EarlyStopping(patience=3, monitor='val_loss', restore_best_weights=True)\n",
    "reduce_lr = callbacks.ReduceLROnPlateau(factor=0.5, patience=2, monitor='val_loss', verbose=1)\n",
    "\n",
    "# Train the model\n",
    "model.fit(X_train, y_train, epochs=50, batch_size=32, validation_data=(X_val, y_val), callbacks=[early_stopping, reduce_lr])\n",
    "\n",
    "model.summary()"
   ]
  },
  {
   "cell_type": "markdown",
   "metadata": {},
   "source": [
    "### Evaluate the model"
   ]
  },
  {
   "cell_type": "code",
   "execution_count": 102,
   "metadata": {},
   "outputs": [
    {
     "name": "stdout",
     "output_type": "stream",
     "text": [
      "Test Loss: 0.7040073871612549\n",
      "Test Accuracy: 0.0\n"
     ]
    }
   ],
   "source": [
    "# Evaluate the model on the test set\n",
    "test_loss, test_accuracy = model.evaluate(X_test, y_test, verbose=0)\n",
    "print(f'Test Loss: {test_loss}')\n",
    "print(f'Test Accuracy: {test_accuracy}')"
   ]
  }
 ],
 "metadata": {
  "kernelspec": {
   "display_name": "Python 3",
   "language": "python",
   "name": "python3"
  },
  "language_info": {
   "codemirror_mode": {
    "name": "ipython",
    "version": 3
   },
   "file_extension": ".py",
   "mimetype": "text/x-python",
   "name": "python",
   "nbconvert_exporter": "python",
   "pygments_lexer": "ipython3",
   "version": "3.11.4"
  }
 },
 "nbformat": 4,
 "nbformat_minor": 2
}
