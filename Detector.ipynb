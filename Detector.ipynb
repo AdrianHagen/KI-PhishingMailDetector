{
 "cells": [
  {
   "cell_type": "code",
   "execution_count": 58,
   "metadata": {},
   "outputs": [],
   "source": [
    "import pandas as pd\n",
    "import numpy as np\n",
    "from tensorflow import keras\n",
    "from tensorflow.keras import layers, models, callbacks\n",
    "from tensorflow.keras.models import load_model\n",
    "import string\n",
    "from nltk.corpus import stopwords\n",
    "from nltk.tokenize import word_tokenize\n",
    "from nltk.stem import PorterStemmer, WordNetLemmatizer\n",
    "from sentence_transformers import SentenceTransformer\n",
    "import os"
   ]
  },
  {
   "cell_type": "markdown",
   "metadata": {},
   "source": [
    "# Spam E-Mail Detector\n",
    "This notebooks contains a model which is able to predict whether a given embedding of an email is a Phishing Mail or is safe. To achieve this, it loads previously created embeddings of emails that are classified either as Phishing or Safe. It then splits up the data into a train, validate and test split before defining and training a model with the data. Finally the models performance is evaluated. The basic structure is oriented towards CRISP DM.\n",
    "## CRISP-DM Phases\n",
    "\n",
    "1. Business Understanding\n",
    "2. Data Understanding\n",
    "3. Data Preparation\n",
    "4. Modeling\n",
    "5. Evaluation\n",
    "6. Deployment\n"
   ]
  },
  {
   "cell_type": "markdown",
   "metadata": {},
   "source": [
    "### 1. Business Understanding\n",
    "\n",
    "##### Objective\n",
    "To develop a model that accurately predicts whether an email is a phishing email or not in order to enhance email security and protect users from potential threats.\n",
    "\n",
    "##### Goals\n",
    "- Reduce the number of phishing emails that reach users' inboxes.\n",
    "- Minimize false positives to ensure legitimate emails are not incorrectly marked as phishing.\n",
    "- Improve overall email security and user trust.\n",
    "\n",
    "##### Business Questions\n",
    "- What are the common characteristics of phishing emails?\n",
    "- How frequently do phishing emails occur in the current email system?\n",
    "- What impact do phishing emails have on user security and business operations?\n",
    "\n",
    "##### Success Criteria\n",
    "- Achieve a high accuracy rate in detecting phishing emails (e.g., over 95%).\n",
    "- Maintain a low false positive rate (e.g., below 1%).\n",
    "- Demonstrate improvement in email security metrics post-implementation.\n",
    "\n",
    "##### Constraints\n",
    "- Ensure the model can process and classify emails in real-time.\n",
    "- Maintain user privacy and data protection while analyzing email content.\n",
    "- Integrate seamlessly with existing email infrastructure and systems.\n",
    "\n",
    "##### Key Stakeholders\n",
    "- Email security team\n",
    "- IT and cybersecurity departments\n",
    "- End-users (employees, customers)\n",
    "- Business executives\n",
    "\n",
    "##### Requirements\n",
    "- Access to historical email data, including labeled examples of phishing and non-phishing emails.\n",
    "- Collaboration with the cybersecurity team to identify key features indicative of phishing.\n",
    "- Tools and infrastructure for developing, testing, and deploying the model.\n"
   ]
  },
  {
   "cell_type": "markdown",
   "metadata": {
    "vscode": {
     "languageId": "plaintext"
    }
   },
   "source": [
    "### 2. Data Understanding\n",
    "The data comes from the following dataset: https://www.kaggle.com/datasets/subhajournal/phishingemails/data. It contains a total of 18,600 emails with 61% being labeled safe and 39% being labeled Phishing."
   ]
  },
  {
   "cell_type": "code",
   "execution_count": 59,
   "metadata": {},
   "outputs": [
    {
     "name": "stdout",
     "output_type": "stream",
     "text": [
      "The amount of data entries is: 18650\n",
      "   Unnamed: 0                                         Email Text  \\\n",
      "0           0  re : 6 . 1100 , disc : uniformitarianism , re ...   \n",
      "1           1  the other side of * galicismos * * galicismo *...   \n",
      "2           2  re : equistar deal tickets are you still avail...   \n",
      "3           3  \\nHello I am your hot lil horny toy.\\n    I am...   \n",
      "4           4  software at incredibly low prices ( 86 % lower...   \n",
      "\n",
      "       Email Type  \n",
      "0      Safe Email  \n",
      "1      Safe Email  \n",
      "2      Safe Email  \n",
      "3  Phishing Email  \n",
      "4  Phishing Email  \n"
     ]
    }
   ],
   "source": [
    "data = pd.read_csv(\"data/Phishing_Email.csv\", skiprows=0)\n",
    "data_size = len(data)\n",
    "\n",
    "print(f\"The amount of data entries is: {data_size}\")\n",
    "print(data.head())"
   ]
  },
  {
   "cell_type": "markdown",
   "metadata": {},
   "source": [
    "### 3. Data Preparation"
   ]
  },
  {
   "cell_type": "markdown",
   "metadata": {},
   "source": [
    "#### Data cleanup\n",
    "The following data preparation steps include:\n",
    "- Removing empty texts\n",
    "- Making all letters lowercase\n",
    "- Removing Punctuation\n",
    "- Removing stopwords\n",
    "- Stemming\n",
    "- Lemmatization"
   ]
  },
  {
   "cell_type": "code",
   "execution_count": 60,
   "metadata": {},
   "outputs": [],
   "source": [
    "# Remove rows with missing text\n",
    "data = data.dropna(subset=[\"Email Text\"])\n",
    "\n",
    "# Convert to lowercase\n",
    "data[\"Email Text\"] = data[\"Email Text\"].str.lower()\n",
    "\n",
    "# Remove punctuation\n",
    "data[\"Email Text\"] = data[\"Email Text\"].str.translate(str.maketrans(\"\", \"\", string.punctuation))\n",
    "\n",
    "# Remove stop words\n",
    "stop_words = set(stopwords.words('english'))\n",
    "data[\"Email Text\"] = data[\"Email Text\"].apply(lambda x: ' '.join(word for word in x.split() if word not in stop_words))\n",
    "\n",
    "# Tokenize\n",
    "data[\"Email Text\"] = data[\"Email Text\"].apply(word_tokenize)\n",
    "\n",
    "# Stemming\n",
    "stemmer = PorterStemmer()\n",
    "data[\"Email Text\"] = data[\"Email Text\"].apply(lambda x: [stemmer.stem(word) for word in x])\n",
    "\n",
    "# Lemmatization\n",
    "lemmatizer = WordNetLemmatizer()\n",
    "data[\"Email Text\"] = data[\"Email Text\"].apply(lambda x: [lemmatizer.lemmatize(word) for word in x])"
   ]
  },
  {
   "cell_type": "markdown",
   "metadata": {},
   "source": [
    "#### Load/Create the embeddings"
   ]
  },
  {
   "cell_type": "code",
   "execution_count": 61,
   "metadata": {},
   "outputs": [],
   "source": [
    "# Check if the embeddings exist and if not, create them\n",
    "if not os.path.exists(\"data/embeddings.csv\"):\n",
    "    # Load the sentence transformer model\n",
    "    sentence_transformer_model = SentenceTransformer(\"sentence-transformers/all-MiniLM-L6-v2\")\n",
    "\n",
    "    # Encode the text data to get embeddings\n",
    "    embeddings = sentence_transformer_model.encode(data[\"Email Text\"].tolist(), show_progress_bar=True)\n",
    "\n",
    "    # Convert embeddings to a list of lists with Python floats\n",
    "    embeddings_list = [list(map(float, embedding)) for embedding in embeddings]\n",
    "\n",
    "    # Convert embeddings to a single string representation\n",
    "    embeddings_str_list = [str(embedding) for embedding in embeddings_list]\n",
    "\n",
    "    # Create a new DataFrame with a single column for embeddings\n",
    "    embeddings_df = pd.DataFrame({\"embedding\": embeddings_str_list})\n",
    "\n",
    "    # Concatenate the label column with the embeddings\n",
    "    final_df = pd.concat([data[\"Email Type\"].reset_index(drop=True), embeddings_df], axis=1)\n",
    "\n",
    "    # Save the final DataFrame to a CSV file\n",
    "    final_df.to_csv(\"data/embeddings.csv\", index=False, sep=\";\")\n",
    "\n",
    "\n",
    "# Load the embeddings and skip the header\n",
    "data_embeddings = pd.read_csv('data/embeddings.csv', sep=';', skiprows=0)"
   ]
  },
  {
   "cell_type": "markdown",
   "metadata": {},
   "source": [
    "#### Create a train, validate and test dataset"
   ]
  },
  {
   "cell_type": "code",
   "execution_count": 62,
   "metadata": {},
   "outputs": [],
   "source": [
    "def format_and_load_data(train_split=0.3, validate_split=0.2, test_split=0.5):\n",
    "    # Calculate the number of samples for each dataset split\n",
    "    train_amount = int(data_size * train_split)\n",
    "    validate_amount = int(data_size * validate_split)\n",
    "    test_amount = int(data_size * test_split)\n",
    "    \n",
    "    examples = []\n",
    "\n",
    "    # Process each embedding\n",
    "    for _, embedding in data_embeddings.iterrows():\n",
    "        label = 1 if embedding.iloc[0] == 'Phishing Email' else 0\n",
    "        embedding_list = [float(i) for i in embedding.iloc[1].strip('[]').split(', ')]\n",
    "        examples.append((embedding_list, label))\n",
    "\n",
    "    # Shuffle the examples\n",
    "    np.random.shuffle(examples)\n",
    "\n",
    "    # Split data into features and labels\n",
    "    X, y = zip(*examples)\n",
    "\n",
    "    # Convert lists to numpy arrays\n",
    "    X = np.array(X)\n",
    "    y = np.array(y)\n",
    "\n",
    "    # Split data into training, validation and testing sets\n",
    "    X_train = X[:train_amount]\n",
    "    X_val = X[train_amount:train_amount + validate_amount]\n",
    "    X_test = X[train_amount + validate_amount:]\n",
    "    y_train = y[:train_amount]\n",
    "    y_val = y[train_amount:train_amount + validate_amount]\n",
    "    y_test = y[train_amount + validate_amount:]\n",
    "\n",
    "    return X_train, y_train, X_val, y_val, X_test, y_test"
   ]
  },
  {
   "cell_type": "markdown",
   "metadata": {},
   "source": [
    "### 4. Modeling"
   ]
  },
  {
   "cell_type": "markdown",
   "metadata": {},
   "source": [
    "#### Create a binary classifier model that can predict whether a mail is spam or not"
   ]
  },
  {
   "cell_type": "code",
   "execution_count": 63,
   "metadata": {},
   "outputs": [
    {
     "name": "stdout",
     "output_type": "stream",
     "text": [
      "Epoch 1/50\n",
      "175/175 [==============================] - 2s 8ms/step - loss: 0.2446 - accuracy: 0.8945 - val_loss: 0.1656 - val_accuracy: 0.9351 - lr: 0.0010\n",
      "Epoch 2/50\n",
      "175/175 [==============================] - 1s 5ms/step - loss: 0.1154 - accuracy: 0.9537 - val_loss: 0.1448 - val_accuracy: 0.9448 - lr: 0.0010\n",
      "Epoch 3/50\n",
      "175/175 [==============================] - 1s 5ms/step - loss: 0.0779 - accuracy: 0.9682 - val_loss: 0.1364 - val_accuracy: 0.9496 - lr: 0.0010\n",
      "Epoch 4/50\n",
      "175/175 [==============================] - 1s 8ms/step - loss: 0.0458 - accuracy: 0.9802 - val_loss: 0.1466 - val_accuracy: 0.9483 - lr: 0.0010\n",
      "Epoch 5/50\n",
      "166/175 [===========================>..] - ETA: 0s - loss: 0.0298 - accuracy: 0.9863\n",
      "Epoch 5: ReduceLROnPlateau reducing learning rate to 0.0005000000237487257.\n",
      "175/175 [==============================] - 1s 5ms/step - loss: 0.0302 - accuracy: 0.9857 - val_loss: 0.1487 - val_accuracy: 0.9528 - lr: 0.0010\n",
      "Epoch 6/50\n",
      "175/175 [==============================] - 1s 4ms/step - loss: 0.0234 - accuracy: 0.9878 - val_loss: 0.1576 - val_accuracy: 0.9517 - lr: 5.0000e-04\n",
      "Model: \"sequential_4\"\n",
      "_________________________________________________________________\n",
      " Layer (type)                Output Shape              Param #   \n",
      "=================================================================\n",
      " dense_12 (Dense)            (None, 384)               147840    \n",
      "                                                                 \n",
      " dense_13 (Dense)            (None, 128)               49280     \n",
      "                                                                 \n",
      " dense_14 (Dense)            (None, 1)                 129       \n",
      "                                                                 \n",
      "=================================================================\n",
      "Total params: 197249 (770.50 KB)\n",
      "Trainable params: 197249 (770.50 KB)\n",
      "Non-trainable params: 0 (0.00 Byte)\n",
      "_________________________________________________________________\n"
     ]
    },
    {
     "name": "stderr",
     "output_type": "stream",
     "text": [
      "c:\\Users\\I551965\\AppData\\Local\\Programs\\Python\\Python311\\Lib\\site-packages\\keras\\src\\engine\\training.py:3103: UserWarning: You are saving your model as an HDF5 file via `model.save()`. This file format is considered legacy. We recommend using instead the native Keras format, e.g. `model.save('my_model.keras')`.\n",
      "  saving_api.save_model(\n"
     ]
    }
   ],
   "source": [
    "# Load the data splits\n",
    "X_train, y_train, X_val, y_val, X_test, y_test = format_and_load_data()\n",
    "\n",
    "# Reshape data to make it acceptable for the model\n",
    "y_train = np.array(y_train, dtype=np.int32)\n",
    "y_val = np.array(y_val, dtype=np.int32)\n",
    "y_test = np.array(y_test, dtype=np.int32)\n",
    "\n",
    "# Define model architecture\n",
    "no_embedding_dim = len(X_train[0])\n",
    "model = models.Sequential([\n",
    "    layers.Dense(no_embedding_dim, activation='relu', input_shape=(no_embedding_dim,)),\n",
    "    layers.Dense(128, activation='relu'),\n",
    "    layers.Dense(1, activation='sigmoid')\n",
    "])\n",
    "\n",
    "# Compile the model\n",
    "model.compile(optimizer=keras.optimizers.Adam(learning_rate=1e-3),\n",
    "              loss='binary_crossentropy',\n",
    "              metrics=['accuracy'])\n",
    "\n",
    "# Define callbacks\n",
    "early_stopping = callbacks.EarlyStopping(patience=3, monitor='val_loss', restore_best_weights=True)\n",
    "reduce_lr = callbacks.ReduceLROnPlateau(factor=0.5, patience=2, monitor='val_loss', verbose=1)\n",
    "\n",
    "# Train the model\n",
    "model.fit(X_train, y_train, epochs=50, batch_size=32, validation_data=(X_val, y_val), callbacks=[early_stopping, reduce_lr])\n",
    "\n",
    "# Save the model for later use\n",
    "model.save(\"models/phishing_email_classifier.h5\")\n",
    "\n",
    "model_summary = model.summary()\n",
    "model_summary"
   ]
  },
  {
   "cell_type": "markdown",
   "metadata": {},
   "source": [
    "#### Evaluate the model"
   ]
  },
  {
   "cell_type": "code",
   "execution_count": 64,
   "metadata": {},
   "outputs": [
    {
     "name": "stdout",
     "output_type": "stream",
     "text": [
      "Test Loss: 0.12684206664562225\n",
      "Test Accuracy: 0.9509919285774231\n"
     ]
    }
   ],
   "source": [
    "# Evaluate the model on the test set\n",
    "test_loss, test_accuracy = model.evaluate(X_test, y_test, verbose=0)\n",
    "print(f'Test Loss: {test_loss}')\n",
    "print(f'Test Accuracy: {test_accuracy}')"
   ]
  },
  {
   "cell_type": "markdown",
   "metadata": {},
   "source": [
    "### 5. Evaluation\n",
    "The model shows good results with a loss of 0.14 and an accuracy of 0.95."
   ]
  },
  {
   "cell_type": "markdown",
   "metadata": {},
   "source": [
    "### 6. Deployment\n",
    "The model can be retrieved for usage from the models folder."
   ]
  },
  {
   "cell_type": "code",
   "execution_count": 67,
   "metadata": {},
   "outputs": [
    {
     "data": {
      "application/vnd.jupyter.widget-view+json": {
       "model_id": "2c2a6d14018d475583f0d022d9b7a633",
       "version_major": 2,
       "version_minor": 0
      },
      "text/plain": [
       "modules.json:   0%|          | 0.00/349 [00:00<?, ?B/s]"
      ]
     },
     "metadata": {},
     "output_type": "display_data"
    },
    {
     "name": "stderr",
     "output_type": "stream",
     "text": [
      "c:\\Users\\I551965\\AppData\\Local\\Programs\\Python\\Python311\\Lib\\site-packages\\huggingface_hub\\file_download.py:149: UserWarning: `huggingface_hub` cache-system uses symlinks by default to efficiently store duplicated files but your machine does not support them in C:\\Users\\I551965\\.cache\\huggingface\\hub\\models--sentence-transformers--all-MiniLM-L6-v2. Caching files will still work but in a degraded version that might require more space on your disk. This warning can be disabled by setting the `HF_HUB_DISABLE_SYMLINKS_WARNING` environment variable. For more details, see https://huggingface.co/docs/huggingface_hub/how-to-cache#limitations.\n",
      "To support symlinks on Windows, you either need to activate Developer Mode or to run Python as an administrator. In order to see activate developer mode, see this article: https://docs.microsoft.com/en-us/windows/apps/get-started/enable-your-device-for-development\n",
      "  warnings.warn(message)\n"
     ]
    },
    {
     "data": {
      "application/vnd.jupyter.widget-view+json": {
       "model_id": "0b9e999a11f44f638ccd7f1e21d7a9c2",
       "version_major": 2,
       "version_minor": 0
      },
      "text/plain": [
       "config_sentence_transformers.json:   0%|          | 0.00/116 [00:00<?, ?B/s]"
      ]
     },
     "metadata": {},
     "output_type": "display_data"
    },
    {
     "data": {
      "application/vnd.jupyter.widget-view+json": {
       "model_id": "81f1e5fcd0974a07a8d35679549d6486",
       "version_major": 2,
       "version_minor": 0
      },
      "text/plain": [
       "README.md:   0%|          | 0.00/10.7k [00:00<?, ?B/s]"
      ]
     },
     "metadata": {},
     "output_type": "display_data"
    },
    {
     "data": {
      "application/vnd.jupyter.widget-view+json": {
       "model_id": "02d7ba7b83724dea937903c3de429c53",
       "version_major": 2,
       "version_minor": 0
      },
      "text/plain": [
       "sentence_bert_config.json:   0%|          | 0.00/53.0 [00:00<?, ?B/s]"
      ]
     },
     "metadata": {},
     "output_type": "display_data"
    },
    {
     "data": {
      "application/vnd.jupyter.widget-view+json": {
       "model_id": "74d71bcd766a4869ab3317cf31c5fe0d",
       "version_major": 2,
       "version_minor": 0
      },
      "text/plain": [
       "config.json:   0%|          | 0.00/612 [00:00<?, ?B/s]"
      ]
     },
     "metadata": {},
     "output_type": "display_data"
    },
    {
     "data": {
      "application/vnd.jupyter.widget-view+json": {
       "model_id": "a58de7e8956546edaa555df302894320",
       "version_major": 2,
       "version_minor": 0
      },
      "text/plain": [
       "model.safetensors:   0%|          | 0.00/90.9M [00:00<?, ?B/s]"
      ]
     },
     "metadata": {},
     "output_type": "display_data"
    },
    {
     "data": {
      "application/vnd.jupyter.widget-view+json": {
       "model_id": "6100c2427da542b295c896808497bbb3",
       "version_major": 2,
       "version_minor": 0
      },
      "text/plain": [
       "tokenizer_config.json:   0%|          | 0.00/350 [00:00<?, ?B/s]"
      ]
     },
     "metadata": {},
     "output_type": "display_data"
    },
    {
     "data": {
      "application/vnd.jupyter.widget-view+json": {
       "model_id": "a2cee0ae7e644271ae45736882586299",
       "version_major": 2,
       "version_minor": 0
      },
      "text/plain": [
       "vocab.txt:   0%|          | 0.00/232k [00:00<?, ?B/s]"
      ]
     },
     "metadata": {},
     "output_type": "display_data"
    },
    {
     "data": {
      "application/vnd.jupyter.widget-view+json": {
       "model_id": "557070afd444484da5e7f5b9ab643011",
       "version_major": 2,
       "version_minor": 0
      },
      "text/plain": [
       "tokenizer.json:   0%|          | 0.00/466k [00:00<?, ?B/s]"
      ]
     },
     "metadata": {},
     "output_type": "display_data"
    },
    {
     "data": {
      "application/vnd.jupyter.widget-view+json": {
       "model_id": "c7d109e6337d4b76abf651d4e01b5f17",
       "version_major": 2,
       "version_minor": 0
      },
      "text/plain": [
       "special_tokens_map.json:   0%|          | 0.00/112 [00:00<?, ?B/s]"
      ]
     },
     "metadata": {},
     "output_type": "display_data"
    },
    {
     "data": {
      "application/vnd.jupyter.widget-view+json": {
       "model_id": "6b6ca9619b1d4b27b07cc571b2649164",
       "version_major": 2,
       "version_minor": 0
      },
      "text/plain": [
       "1_Pooling/config.json:   0%|          | 0.00/190 [00:00<?, ?B/s]"
      ]
     },
     "metadata": {},
     "output_type": "display_data"
    },
    {
     "name": "stdout",
     "output_type": "stream",
     "text": [
      "1/1 [==============================] - 0s 55ms/step\n",
      "Prediction: Phishing\n"
     ]
    }
   ],
   "source": [
    "# Load the saved model for phishing email classification\n",
    "model = keras.models.load_model(\"models/phishing_email_classifier.h5\")\n",
    "\n",
    "# Load the Sentence Transformer model\n",
    "sentence_transformer_model = SentenceTransformer(\"sentence-transformers/all-MiniLM-L6-v2\")\n",
    "\n",
    "# Function to preprocess input data\n",
    "def preprocess_input(email_text):\n",
    "    # Your preprocessing steps here (e.g., tokenization, cleaning)\n",
    "    return email_text\n",
    "\n",
    "# Example email data (you should replace this with your own email data)\n",
    "email_text = \"This is an example email. It might contain phishing links.\"\n",
    "\n",
    "# Preprocess the input data\n",
    "preprocessed_email = preprocess_input(email_text)\n",
    "\n",
    "# Encode the preprocessed email text to get its embedding\n",
    "email_embedding = sentence_transformer_model.encode([preprocessed_email])[0]\n",
    "\n",
    "# Reshape the embedding to match the model input shape\n",
    "X_test = np.array([email_embedding])  # Adding an extra dimension to match model input shape\n",
    "\n",
    "# Make predictions\n",
    "predictions = model.predict(X_test)\n",
    "\n",
    "# Thresholding the predictions (assuming it's binary classification)\n",
    "threshold = 0.5\n",
    "predicted_label = \"Phishing\" if predictions[0][0] >= threshold else \"Not Phishing\"\n",
    "\n",
    "print(\"Prediction:\", predicted_label)"
   ]
  }
 ],
 "metadata": {
  "kernelspec": {
   "display_name": "Python 3",
   "language": "python",
   "name": "python3"
  },
  "language_info": {
   "codemirror_mode": {
    "name": "ipython",
    "version": 3
   },
   "file_extension": ".py",
   "mimetype": "text/x-python",
   "name": "python",
   "nbconvert_exporter": "python",
   "pygments_lexer": "ipython3",
   "version": "3.11.4"
  }
 },
 "nbformat": 4,
 "nbformat_minor": 2
}
